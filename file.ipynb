{
 "cells": [
  {
   "cell_type": "code",
   "execution_count": 2,
   "metadata": {},
   "outputs": [],
   "source": [
    "import pandas as pd\n",
    "import numpy as np\n",
    "import os"
   ]
  },
  {
   "cell_type": "code",
   "execution_count": 3,
   "metadata": {},
   "outputs": [
    {
     "name": "stdout",
     "output_type": "stream",
     "text": [
      "Defaulting to user installation because normal site-packages is not writeable\n",
      "Collecting kagglehub\n",
      "  Downloading kagglehub-0.3.1-py3-none-any.whl.metadata (22 kB)\n",
      "Requirement already satisfied: packaging in c:\\users\\leech\\appdata\\local\\packages\\pythonsoftwarefoundation.python.3.12_qbz5n2kfra8p0\\localcache\\local-packages\\python312\\site-packages (from kagglehub) (24.0)\n",
      "Requirement already satisfied: requests in c:\\users\\leech\\appdata\\local\\packages\\pythonsoftwarefoundation.python.3.12_qbz5n2kfra8p0\\localcache\\local-packages\\python312\\site-packages (from kagglehub) (2.32.3)\n",
      "Requirement already satisfied: tqdm in c:\\users\\leech\\appdata\\local\\packages\\pythonsoftwarefoundation.python.3.12_qbz5n2kfra8p0\\localcache\\local-packages\\python312\\site-packages (from kagglehub) (4.66.5)\n",
      "Requirement already satisfied: charset-normalizer<4,>=2 in c:\\users\\leech\\appdata\\local\\packages\\pythonsoftwarefoundation.python.3.12_qbz5n2kfra8p0\\localcache\\local-packages\\python312\\site-packages (from requests->kagglehub) (3.3.2)\n",
      "Requirement already satisfied: idna<4,>=2.5 in c:\\users\\leech\\appdata\\local\\packages\\pythonsoftwarefoundation.python.3.12_qbz5n2kfra8p0\\localcache\\local-packages\\python312\\site-packages (from requests->kagglehub) (3.7)\n",
      "Requirement already satisfied: urllib3<3,>=1.21.1 in c:\\users\\leech\\appdata\\local\\packages\\pythonsoftwarefoundation.python.3.12_qbz5n2kfra8p0\\localcache\\local-packages\\python312\\site-packages (from requests->kagglehub) (2.2.2)\n",
      "Requirement already satisfied: certifi>=2017.4.17 in c:\\users\\leech\\appdata\\local\\packages\\pythonsoftwarefoundation.python.3.12_qbz5n2kfra8p0\\localcache\\local-packages\\python312\\site-packages (from requests->kagglehub) (2024.7.4)\n",
      "Requirement already satisfied: colorama in c:\\users\\leech\\appdata\\local\\packages\\pythonsoftwarefoundation.python.3.12_qbz5n2kfra8p0\\localcache\\local-packages\\python312\\site-packages (from tqdm->kagglehub) (0.4.6)\n",
      "Downloading kagglehub-0.3.1-py3-none-any.whl (42 kB)\n",
      "Installing collected packages: kagglehub\n",
      "Successfully installed kagglehub-0.3.1\n",
      "Note: you may need to restart the kernel to use updated packages.\n"
     ]
    }
   ],
   "source": [
    "pip install kagglehub"
   ]
  },
  {
   "cell_type": "code",
   "execution_count": 11,
   "metadata": {},
   "outputs": [
    {
     "name": "stdout",
     "output_type": "stream",
     "text": [
      "Resuming download from 43721424896 bytes (961555344 bytes left)...\n",
      "Resuming download from https://www.kaggle.com/api/v1/datasets/download/asisheriberto/music-classification-wav?dataset_version_number=3 (43721424896/44682980240) bytes left.\n"
     ]
    },
    {
     "name": "stderr",
     "output_type": "stream",
     "text": [
      "100%|██████████| 41.6G/41.6G [01:55<00:00, 8.34MB/s]"
     ]
    },
    {
     "name": "stdout",
     "output_type": "stream",
     "text": [
      "Extracting files...\n"
     ]
    },
    {
     "name": "stderr",
     "output_type": "stream",
     "text": [
      "\n"
     ]
    },
    {
     "name": "stdout",
     "output_type": "stream",
     "text": [
      "Path to dataset files: C:\\Users\\leech\\.cache\\kagglehub\\datasets\\asisheriberto\\music-classification-wav\\versions\\3\n"
     ]
    }
   ],
   "source": [
    "import kagglehub\n",
    "\n",
    "# Download latest version\n",
    "path = kagglehub.dataset_download(\"asisheriberto/music-classification-wav\")\n",
    "\n",
    "print(\"Path to dataset files:\", path)"
   ]
  },
  {
   "cell_type": "code",
   "execution_count": 4,
   "metadata": {},
   "outputs": [],
   "source": [
    "path=\"C:\\\\Users\\\\leech\\\\.cache\\\\kagglehub\\\\datasets\\\\asisheriberto\\\\music-classification-wav\\\\versions\\\\3\""
   ]
  },
  {
   "cell_type": "code",
   "execution_count": 16,
   "metadata": {},
   "outputs": [
    {
     "name": "stdout",
     "output_type": "stream",
     "text": [
      "C:\\Users\\leech\\.cache\\kagglehub\\datasets\\asisheriberto\\music-classification-wav\\versions\\3\\TRAIN_V2\\data_out_2\\0\n",
      "3071\n",
      "C:\\Users\\leech\\.cache\\kagglehub\\datasets\\asisheriberto\\music-classification-wav\\versions\\3\\TRAIN_V2\\data_out_2\\1\n",
      "3095\n",
      "C:\\Users\\leech\\.cache\\kagglehub\\datasets\\asisheriberto\\music-classification-wav\\versions\\3\\TRAIN_V2\\data_out_2\\10\n",
      "796\n",
      "C:\\Users\\leech\\.cache\\kagglehub\\datasets\\asisheriberto\\music-classification-wav\\versions\\3\\TRAIN_V2\\data_out_2\\11\n",
      "495\n",
      "C:\\Users\\leech\\.cache\\kagglehub\\datasets\\asisheriberto\\music-classification-wav\\versions\\3\\TRAIN_V2\\data_out_2\\12\n",
      "408\n",
      "C:\\Users\\leech\\.cache\\kagglehub\\datasets\\asisheriberto\\music-classification-wav\\versions\\3\\TRAIN_V2\\data_out_2\\13\n",
      "306\n",
      "C:\\Users\\leech\\.cache\\kagglehub\\datasets\\asisheriberto\\music-classification-wav\\versions\\3\\TRAIN_V2\\data_out_2\\14\n",
      "142\n",
      "C:\\Users\\leech\\.cache\\kagglehub\\datasets\\asisheriberto\\music-classification-wav\\versions\\3\\TRAIN_V2\\data_out_2\\15\n",
      "94\n",
      "C:\\Users\\leech\\.cache\\kagglehub\\datasets\\asisheriberto\\music-classification-wav\\versions\\3\\TRAIN_V2\\data_out_2\\16\n",
      "94\n",
      "C:\\Users\\leech\\.cache\\kagglehub\\datasets\\asisheriberto\\music-classification-wav\\versions\\3\\TRAIN_V2\\data_out_2\\17\n",
      "58\n",
      "C:\\Users\\leech\\.cache\\kagglehub\\datasets\\asisheriberto\\music-classification-wav\\versions\\3\\TRAIN_V2\\data_out_2\\18\n",
      "13\n",
      "C:\\Users\\leech\\.cache\\kagglehub\\datasets\\asisheriberto\\music-classification-wav\\versions\\3\\TRAIN_V2\\data_out_2\\2\n",
      "2582\n",
      "C:\\Users\\leech\\.cache\\kagglehub\\datasets\\asisheriberto\\music-classification-wav\\versions\\3\\TRAIN_V2\\data_out_2\\3\n",
      "1800\n",
      "C:\\Users\\leech\\.cache\\kagglehub\\datasets\\asisheriberto\\music-classification-wav\\versions\\3\\TRAIN_V2\\data_out_2\\4\n",
      "1757\n",
      "C:\\Users\\leech\\.cache\\kagglehub\\datasets\\asisheriberto\\music-classification-wav\\versions\\3\\TRAIN_V2\\data_out_2\\5\n",
      "1214\n",
      "C:\\Users\\leech\\.cache\\kagglehub\\datasets\\asisheriberto\\music-classification-wav\\versions\\3\\TRAIN_V2\\data_out_2\\6\n",
      "1181\n",
      "C:\\Users\\leech\\.cache\\kagglehub\\datasets\\asisheriberto\\music-classification-wav\\versions\\3\\TRAIN_V2\\data_out_2\\7\n",
      "1044\n",
      "C:\\Users\\leech\\.cache\\kagglehub\\datasets\\asisheriberto\\music-classification-wav\\versions\\3\\TRAIN_V2\\data_out_2\\8\n",
      "945\n",
      "C:\\Users\\leech\\.cache\\kagglehub\\datasets\\asisheriberto\\music-classification-wav\\versions\\3\\TRAIN_V2\\data_out_2\\9\n",
      "814\n"
     ]
    }
   ],
   "source": [
    "for i in os.listdir(path):\n",
    "    data_path=os.path.join(path,i)\n",
    "    if (i=='TRAIN_V2'):\n",
    "        for j in os.listdir(data_path):\n",
    "            data_paths1=os.path.join(data_path,j)\n",
    "            for k in os.listdir(data_paths1):\n",
    "                audio_paths=os.path.join(data_paths1,k)\n",
    "                print(audio_paths)\n",
    "                print(len(os.listdir(audio_paths)))\n",
    "                \n",
    "\n",
    "        \n",
    "    # for j in os.listdir(data_path):\n",
    "    #     print(j)\n",
    "    # print()"
   ]
  },
  {
   "cell_type": "code",
   "execution_count": null,
   "metadata": {},
   "outputs": [],
   "source": []
  }
 ],
 "metadata": {
  "kernelspec": {
   "display_name": "Python 3",
   "language": "python",
   "name": "python3"
  },
  "language_info": {
   "codemirror_mode": {
    "name": "ipython",
    "version": 3
   },
   "file_extension": ".py",
   "mimetype": "text/x-python",
   "name": "python",
   "nbconvert_exporter": "python",
   "pygments_lexer": "ipython3",
   "version": "3.12.7"
  }
 },
 "nbformat": 4,
 "nbformat_minor": 2
}
